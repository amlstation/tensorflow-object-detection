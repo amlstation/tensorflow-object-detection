{
 "cells": [
  {
   "cell_type": "markdown",
   "id": "ae3c2ae8-32cc-4723-b760-adc83479fd2f",
   "metadata": {},
   "source": [
    "# Dataset Preparation"
   ]
  },
  {
   "cell_type": "code",
   "execution_count": null,
   "id": "37453724-30bd-4e9f-bace-3570888ddeaa",
   "metadata": {
    "scrolled": true
   },
   "outputs": [],
   "source": [
    "%cd /workspace/src\n",
    "\n",
    "from dataset_utils import split_dataset"
   ]
  },
  {
   "cell_type": "code",
   "execution_count": null,
   "id": "76799fbd-105b-4feb-b72f-b9d8a9e66ff6",
   "metadata": {
    "scrolled": true
   },
   "outputs": [],
   "source": [
    "# Required variables\n",
    "\n",
    "dataset_name = \"Construction-Vehicles\"\n",
    "train_fraction = 0.8"
   ]
  },
  {
   "cell_type": "code",
   "execution_count": null,
   "id": "f42ce935-b821-47fe-b4b2-7790b1ea57d7",
   "metadata": {
    "scrolled": true
   },
   "outputs": [],
   "source": [
    "split_dataset(dataset_name, train_fraction)"
   ]
  },
  {
   "cell_type": "markdown",
   "id": "7e209cdb-ca9d-48ce-866b-a88c0f211f25",
   "metadata": {},
   "source": [
    "# Model Training"
   ]
  },
  {
   "cell_type": "code",
   "execution_count": null,
   "id": "8092d80b-26c3-4625-a209-1ce51db39892",
   "metadata": {
    "scrolled": true
   },
   "outputs": [],
   "source": [
    "# http://download.tensorflow.org/models/object_detection/tf2/20200711/ssd_mobilenet_v2_fpnlite_320x320_coco17_tpu-8.tar.gz"
   ]
  },
  {
   "cell_type": "code",
   "execution_count": null,
   "id": "797a668a-2d12-4225-9de8-7d3f322fc155",
   "metadata": {
    "scrolled": true
   },
   "outputs": [],
   "source": [
    "# Required variables\n",
    "\n",
    "output_model_prefix = dataset_name\n",
    "base_model_name = \"mobilenet_ssd\"\n",
    "input_shape = \"224 224\"\n",
    "num_train_steps = 10000\n",
    "warmup_steps = 1000\n",
    "batch_size = 4\n",
    "learning_rate = 0.001\n",
    "evaluate = 1"
   ]
  },
  {
   "cell_type": "code",
   "execution_count": null,
   "id": "10c00ff2-086e-4fc0-89db-9dbcb1f7a506",
   "metadata": {
    "scrolled": true
   },
   "outputs": [],
   "source": [
    "!python3 /workspace/src/train_object_detection_model.py\\\n",
    " --dataset_name {dataset_name}\\\n",
    " --output_model_prefix {output_model_prefix}\\\n",
    " --base_model_name {base_model_name}\\\n",
    " --input_shape {input_shape}\\\n",
    " --num_train_steps {num_train_steps}\\\n",
    " --warmup_steps {warmup_steps}\\\n",
    " --batch_size {batch_size}\\\n",
    " --learning_rate {learning_rate}\\\n",
    " --evaluate {evaluate}"
   ]
  },
  {
   "cell_type": "markdown",
   "id": "33052131-7e23-4075-9575-a628cc7a398c",
   "metadata": {},
   "source": [
    "# Model Inferences"
   ]
  },
  {
   "cell_type": "markdown",
   "id": "b6414802-d4d9-497c-ad3e-a4c226b0f569",
   "metadata": {},
   "source": [
    "## TensorFlow Lite Inferences"
   ]
  },
  {
   "cell_type": "code",
   "execution_count": null,
   "id": "b31a8aed-4467-4f85-9bde-5e9397546e13",
   "metadata": {},
   "outputs": [],
   "source": [
    "model_name = \"mobilenet_ssd\"\n",
    "input_directory = f\"/workspace/datasets/{dataset_name}\"\n",
    "output_directory = f\"/workspace/inference_output_images/{dataset_name}\"\n",
    "score_threshold = 0.4"
   ]
  },
  {
   "cell_type": "code",
   "execution_count": null,
   "id": "6b32ec7a-76c2-43b3-8c7b-a246e40d0c8c",
   "metadata": {
    "scrolled": true
   },
   "outputs": [],
   "source": [
    "!python3 /workspace/src/object_detection_tf_lite_inferences.py\\\n",
    " --model_name {model_name}\\\n",
    " --input_directory {input_directory}\\\n",
    " --output_directory {output_directory}\\\n",
    " --score_threshold {score_threshold}"
   ]
  },
  {
   "cell_type": "code",
   "execution_count": null,
   "id": "1fd9656f-6dda-4907-b0d1-a24dc7892860",
   "metadata": {},
   "outputs": [],
   "source": []
  }
 ],
 "metadata": {
  "kernelspec": {
   "display_name": "Python 3 (ipykernel)",
   "language": "python",
   "name": "python3"
  },
  "language_info": {
   "codemirror_mode": {
    "name": "ipython",
    "version": 3
   },
   "file_extension": ".py",
   "mimetype": "text/x-python",
   "name": "python",
   "nbconvert_exporter": "python",
   "pygments_lexer": "ipython3",
   "version": "3.8.10"
  }
 },
 "nbformat": 4,
 "nbformat_minor": 5
}
