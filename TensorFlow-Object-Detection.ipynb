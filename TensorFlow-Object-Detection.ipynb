{
 "cells": [
  {
   "cell_type": "markdown",
   "id": "7e209cdb-ca9d-48ce-866b-a88c0f211f25",
   "metadata": {},
   "source": [
    "# Train Object Detection Model"
   ]
  },
  {
   "cell_type": "markdown",
   "id": "ae3c2ae8-32cc-4723-b760-adc83479fd2f",
   "metadata": {},
   "source": [
    "## Download the desired dataset\n",
    "\n",
    "You can either download from the Website or directly from the API."
   ]
  },
  {
   "cell_type": "markdown",
   "id": "20e9cb04-92b5-4ea2-a0c5-f942b11b751e",
   "metadata": {
    "jp-MarkdownHeadingCollapsed": true
   },
   "source": [
    "### Download from AutoML Station's Marketplace Website\n",
    "\n",
    "**Example:**\n",
    "- Download `PPE - Personal Protective Equipment` from ***[AutoML Station's Marketplace](https://marketplace.amlstation.com/datasets/1)***;\n",
    "- Place `PPE-Detection.zip` inside `tensorflow-object-detection/datasets` and unzip it;"
   ]
  },
  {
   "cell_type": "markdown",
   "id": "309a0244-ae51-4bbc-af33-0d084a17f209",
   "metadata": {},
   "source": [
    "### Download from AutoML Station's Marketplace API\n",
    "\n",
    "Paste your API token to the `API_TOKEN` variable on the cell below.\n",
    "\n",
    "You can find instructions for generating a valid API Token on the [README.API.md](./README.API.md) file."
   ]
  },
  {
   "cell_type": "code",
   "execution_count": null,
   "id": "dda1f25f-e074-4f8d-a3db-1644dcc98845",
   "metadata": {},
   "outputs": [],
   "source": [
    "!pip3 install requests --quiet\n",
    "import requests\n",
    "\n",
    "API_TOKEN=\"your-api-token-here\"\n",
    "\n",
    "headers = {\n",
    "    'Authorization': f\"Bearer {API_TOKEN}\",\n",
    "}\n",
    "dataset_url = 'https://marketplace.amlstation.com/api/v1/datasets/1/download'\n",
    "request = requests.get(dataset_url, headers=headers)\n",
    "with open('dataset.zip', 'wb') as f:\n",
    "    f.write(request.content)"
   ]
  },
  {
   "cell_type": "code",
   "execution_count": null,
   "id": "13e0dcd7-a921-4217-a073-e7db97a3dd58",
   "metadata": {
    "scrolled": true
   },
   "outputs": [],
   "source": [
    "!unzip dataset.zip -d datasets"
   ]
  },
  {
   "cell_type": "markdown",
   "id": "5f58e9ca-2c23-40db-acfb-3377113727f3",
   "metadata": {},
   "source": [
    "## Prepare the dataset"
   ]
  },
  {
   "cell_type": "code",
   "execution_count": null,
   "id": "76799fbd-105b-4feb-b72f-b9d8a9e66ff6",
   "metadata": {
    "scrolled": true
   },
   "outputs": [],
   "source": [
    "# Required variables and function\n",
    "\n",
    "%cd /workspace/src\n",
    "\n",
    "from dataset_utils import split_dataset\n",
    "\n",
    "dataset_name = \"PPE-Detection\"\n",
    "train_fraction = 0.8\n",
    "\n",
    "split_dataset(dataset_name, train_fraction)"
   ]
  },
  {
   "cell_type": "markdown",
   "id": "c9784d5a-f1da-4618-9f3a-5c78eae00cd5",
   "metadata": {},
   "source": [
    "## Download pre-trained model\n",
    "\n",
    "You can either download from the Website or directly from the API."
   ]
  },
  {
   "cell_type": "markdown",
   "id": "afc9ce2b-7abf-44f0-8b37-9c637f6de021",
   "metadata": {},
   "source": [
    "### Download from AutoML Station's Marketplace Website\n",
    "\n",
    "- Download `SSD MobileNet V2 320x320 - COCO 2017` from ***[AutoML Station's Marketplace](https://marketplace.amlstation.com/models/6)***;\n",
    "- Place `mobilenet_ssd.zip` inside `tensorflow-object-detection/models` and unzip it;"
   ]
  },
  {
   "cell_type": "markdown",
   "id": "253ee105-1fc0-4d73-a14b-cb102e13973e",
   "metadata": {},
   "source": [
    "### Download from AutoML Station's Marketplace API\n",
    "\n",
    "Paste your API token to the `API_TOKEN` variable on the cell below.\n",
    "\n",
    "You can find instructions for generating a valid API Token on the [README.API.md](./README.API.md) file."
   ]
  },
  {
   "cell_type": "code",
   "execution_count": null,
   "id": "14be6022-2ee2-4cff-aae5-9dca34e42568",
   "metadata": {},
   "outputs": [],
   "source": [
    "%cd /workspace\n",
    "\n",
    "!pip3 install requests --quiet\n",
    "import requests\n",
    "\n",
    "API_TOKEN=\"your-api-token-here\"\n",
    "\n",
    "headers = {\n",
    "    'Authorization': f\"Bearer {API_TOKEN}\",\n",
    "}\n",
    "dataset_url = 'https://marketplace.amlstation.com/api/v1/models/6/download'\n",
    "request = requests.get(dataset_url, headers=headers)\n",
    "with open('model.zip', 'wb') as f:\n",
    "    f.write(request.content)"
   ]
  },
  {
   "cell_type": "code",
   "execution_count": null,
   "id": "6bd7b1b6-b5b2-460c-8ce6-8fd642285490",
   "metadata": {},
   "outputs": [],
   "source": [
    "!unzip model.zip -d models"
   ]
  },
  {
   "cell_type": "markdown",
   "id": "7ce12c32-b3db-4c4c-822b-f6a93342df3f",
   "metadata": {},
   "source": [
    "## Train your own custom model"
   ]
  },
  {
   "cell_type": "code",
   "execution_count": null,
   "id": "797a668a-2d12-4225-9de8-7d3f322fc155",
   "metadata": {
    "scrolled": true
   },
   "outputs": [],
   "source": [
    "# Required variables\n",
    "\n",
    "output_model_prefix = dataset_name\n",
    "base_model_name = \"mobilenet_ssd\"\n",
    "input_shape = \"224 224\"\n",
    "num_train_steps = 10000\n",
    "warmup_steps = 1000\n",
    "batch_size = 2\n",
    "learning_rate = 0.001\n",
    "evaluate = 1"
   ]
  },
  {
   "cell_type": "code",
   "execution_count": null,
   "id": "10c00ff2-086e-4fc0-89db-9dbcb1f7a506",
   "metadata": {
    "scrolled": true
   },
   "outputs": [],
   "source": [
    "%cd /workspace/src\n",
    "\n",
    "!python3 /workspace/src/train_object_detection_model.py\\\n",
    " --dataset_name {dataset_name}\\\n",
    " --output_model_prefix {output_model_prefix}\\\n",
    " --base_model_name {base_model_name}\\\n",
    " --input_shape {input_shape}\\\n",
    " --num_train_steps {num_train_steps}\\\n",
    " --warmup_steps {warmup_steps}\\\n",
    " --batch_size {batch_size}\\\n",
    " --learning_rate {learning_rate}\\\n",
    " --evaluate {evaluate}"
   ]
  },
  {
   "cell_type": "code",
   "execution_count": null,
   "id": "3ebdb6a3-e6a9-4bee-8ac6-df49d5237647",
   "metadata": {},
   "outputs": [],
   "source": [
    "# Check training logs with Tensorboard\n",
    "!tensorboard --logdir /workspace/models --host 0.0.0.0"
   ]
  },
  {
   "cell_type": "markdown",
   "id": "b6414802-d4d9-497c-ad3e-a4c226b0f569",
   "metadata": {},
   "source": [
    "# Run Object Detection Inferences With TensorFlow Lite "
   ]
  },
  {
   "cell_type": "markdown",
   "id": "d46bf6d4-7e33-4214-ad8c-0590ad37b3ad",
   "metadata": {},
   "source": [
    "### Download desired pre-trained model\n",
    "\n",
    "**Example:**\n",
    "- Download `SSD MobileNet V2 320x320 - COCO 2017` from ***[AutoML Station's Marketplace](https://marketplace.amlstation.com/models/6)***;\n",
    "- Place `mobilenet_ssd.zip` inside `tensorflow-object-detection/models` and unzip it;"
   ]
  },
  {
   "cell_type": "code",
   "execution_count": null,
   "id": "b31a8aed-4467-4f85-9bde-5e9397546e13",
   "metadata": {},
   "outputs": [],
   "source": [
    "model_name = \"mobilenet_ssd\"\n",
    "input_directory = f\"/workspace/sample_images\"\n",
    "output_directory = f\"/workspace/inference_output_images/sample_images\"\n",
    "score_threshold = 0.4"
   ]
  },
  {
   "cell_type": "code",
   "execution_count": null,
   "id": "6b32ec7a-76c2-43b3-8c7b-a246e40d0c8c",
   "metadata": {
    "scrolled": true
   },
   "outputs": [],
   "source": [
    "!python3 /workspace/src/object_detection_tf_lite_inferences.py\\\n",
    " --model_name {model_name}\\\n",
    " --input_directory {input_directory}\\\n",
    " --output_directory {output_directory}\\\n",
    " --score_threshold {score_threshold}"
   ]
  },
  {
   "cell_type": "code",
   "execution_count": null,
   "id": "8c8f8e16-72b5-44f9-8fbb-b07ad5c8f915",
   "metadata": {},
   "outputs": [],
   "source": []
  }
 ],
 "metadata": {
  "kernelspec": {
   "display_name": "Python 3 (ipykernel)",
   "language": "python",
   "name": "python3"
  },
  "language_info": {
   "codemirror_mode": {
    "name": "ipython",
    "version": 3
   },
   "file_extension": ".py",
   "mimetype": "text/x-python",
   "name": "python",
   "nbconvert_exporter": "python",
   "pygments_lexer": "ipython3",
   "version": "3.8.10"
  }
 },
 "nbformat": 4,
 "nbformat_minor": 5
}
